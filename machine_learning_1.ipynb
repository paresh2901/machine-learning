{
  "nbformat": 4,
  "nbformat_minor": 0,
  "metadata": {
    "colab": {
      "provenance": []
    },
    "kernelspec": {
      "name": "python3",
      "display_name": "Python 3"
    },
    "language_info": {
      "name": "python"
    }
  },
  "cells": [
    {
      "cell_type": "code",
      "source": [
        "#1. What is a parameter?"
      ],
      "metadata": {
        "id": "lFQrIoumy4XU"
      },
      "execution_count": null,
      "outputs": []
    },
    {
      "cell_type": "code",
      "source": [
        "In machine learning, a parameter refers to a value or configuration within a model that is\n",
        "learned from the training data during the learning process. Parameters define the model's\n",
        "internal architecture and determine how the model processes inputs to produce outputs.\n",
        "\n",
        "Examples of Parameters in Machine Learning Models:\n",
        "Weights (or Coefficients):\n",
        "\n",
        "In linear regression, weights are the coefficients of the input features.\n",
        "In neural networks, weights are the values associated with the connections between neurons.\n",
        "Biases:\n",
        "\n",
        "These are additional constants added to the output of certain operations to allow the model to\n",
        "better fit the data.\n",
        "Cluster Centroids (in unsupervised learning):\n",
        "\n",
        "In algorithms like K-Means, the centroids of the clusters are parameters that are updated during training.\n",
        "Support Vectors:\n",
        "\n",
        "In support vector machines (SVMs), the position of the support vectors influences the decision boundary.\n",
        "Characteristics of Parameters:\n",
        "Learned from Data: Parameters are optimized during the training phase using algorithms like gradient descent.\n",
        "Impact Performance: Properly tuned parameters can significantly affect the model's\n",
        " accuracy and ability to generalize to new data.\n",
        "Fixed After Training: Once a model is trained, the parameters are typically fixed and\n",
        "used during inference to make predictions.\n",
        "Distinction Between Parameters and Hyperparameters:\n",
        "Parameters are internal to the model and learned during training.\n",
        "Hyperparameters are external settings that control the learning process, such as learning rate,\n",
        " number of layers, and batch size, and are typically set before training begins.\n",
        "Understanding and optimizing parameters is key to building effective machine learning models."
      ],
      "metadata": {
        "id": "2l2im5dFy4ix"
      },
      "execution_count": null,
      "outputs": []
    },
    {
      "cell_type": "code",
      "source": [
        "#2. What is correlation?"
      ],
      "metadata": {
        "id": "m-Qcj-BVy4m5"
      },
      "execution_count": null,
      "outputs": []
    },
    {
      "cell_type": "code",
      "source": [
        "In machine learning (ML), correlation refers to a statistical measure that describes the degree and\n",
        "direction of a relationship between two variables. It indicates whether and how strongly pairs of\n",
        " variables are related.\n",
        "\n",
        "Key Points About Correlation:\n",
        "Range: Correlation values range between -1 and 1:\n",
        "\n",
        "+1: Perfect positive correlation (as one variable increases, the other increases proportionally).\n",
        "0: No correlation (no linear relationship between the variables).\n",
        "-1: Perfect negative correlation (as one variable increases, the other decreases proportionally).\n",
        "Types of Correlation:\n",
        "\n",
        "Positive Correlation: Both variables move in the same direction (e.g., height and weight).\n",
        "Negative Correlation: Variables move in opposite directions (e.g., speed and travel time).\n",
        "Zero Correlation: No discernible linear relationship.\n",
        "Measures of Correlation:\n",
        "\n",
        "Pearson Correlation Coefficient (r): Measures linear relationships. Suitable for continuous data.\n",
        "Spearman Rank Correlation: Measures monotonic relationships (not necessarily linear). Suitable\n",
        "for ordinal data or non-linear relationships.\n",
        "Kendall’s Tau: Measures rank correlation, often used for smaller datasets.\n",
        "Formula for Pearson Correlation:\n",
        "\n",
        "𝑟\n",
        "=\n",
        "Cov\n",
        "(\n",
        "𝑋\n",
        ",\n",
        "𝑌\n",
        ")\n",
        "𝜎\n",
        "𝑋\n",
        "⋅\n",
        "𝜎\n",
        "𝑌\n",
        "r=\n",
        "σ\n",
        "X\n",
        "​\n",
        " ⋅σ\n",
        "Y\n",
        "​\n",
        "\n",
        "Cov(X,Y)\n",
        "​\n",
        "\n",
        "Where:\n",
        "\n",
        "Cov\n",
        "(\n",
        "𝑋\n",
        ",\n",
        "𝑌\n",
        ")\n",
        "Cov(X,Y): Covariance of\n",
        "𝑋\n",
        "X and\n",
        "𝑌\n",
        "Y.\n",
        "𝜎\n",
        "𝑋\n",
        "σ\n",
        "X\n",
        "​\n",
        " : Standard deviation of\n",
        "𝑋\n",
        "X.\n",
        "𝜎\n",
        "𝑌\n",
        "σ\n",
        "Y\n",
        "​\n",
        " : Standard deviation of\n",
        "𝑌\n",
        "Y.\n",
        "Importance of Correlation in ML:\n",
        "Feature Selection:\n",
        "\n",
        "High correlation between features and the target variable indicates predictive power.\n",
        "Removing highly correlated features (multicollinearity) can improve model performance\n",
        "and interpretability.\n",
        "Data Preprocessing:\n",
        "\n",
        "Correlation analysis can help identify redundant features.\n",
        "Understanding Relationships:\n",
        "\n",
        "Helps in understanding the data and interpreting relationships between variables.\n",
        "Improving Model Performance:\n",
        "\n",
        "Identifying and eliminating highly correlated features can prevent overfitting in\n",
        "certain models like linear regression."
      ],
      "metadata": {
        "id": "C3JsxjYmy4q6"
      },
      "execution_count": null,
      "outputs": []
    },
    {
      "cell_type": "code",
      "source": [
        "#. What does negative correlation mean?"
      ],
      "metadata": {
        "id": "X9TrHaVey4uT"
      },
      "execution_count": null,
      "outputs": []
    },
    {
      "cell_type": "code",
      "source": [
        "In machine learning (ML), correlation refers to a statistical measure that describes the degree and direction of a relationship between two variables. It indicates whether and how strongly pairs of variables are related.\n",
        "\n",
        "Key Points About Correlation:\n",
        "Range: Correlation values range between -1 and 1:\n",
        "\n",
        "+1: Perfect positive correlation (as one variable increases, the other increases proportionally).\n",
        "0: No correlation (no linear relationship between the variables).\n",
        "-1: Perfect negative correlation (as one variable increases, the other decreases proportionally).\n",
        "Types of Correlation:\n",
        "\n",
        "Positive Correlation: Both variables move in the same direction (e.g., height and weight).\n",
        "Negative Correlation: Variables move in opposite directions (e.g., speed and travel time).\n",
        "Zero Correlation: No discernible linear relationship.\n",
        "Measures of Correlation:\n",
        "\n",
        "Pearson Correlation Coefficient (r): Measures linear relationships. Suitable for continuous data.\n",
        "Spearman Rank Correlation: Measures monotonic relationships (not necessarily linear). Suitable for ordinal data or non-linear relationships.\n",
        "Kendall’s Tau: Measures rank correlation, often used for smaller datasets.\n",
        "Formula for Pearson Correlation:\n",
        "\n",
        "𝑟\n",
        "=\n",
        "Cov\n",
        "(\n",
        "𝑋\n",
        ",\n",
        "𝑌\n",
        ")\n",
        "𝜎\n",
        "𝑋\n",
        "⋅\n",
        "𝜎\n",
        "𝑌\n",
        "r=\n",
        "σ\n",
        "X\n",
        "​\n",
        " ⋅σ\n",
        "Y\n",
        "​\n",
        "\n",
        "Cov(X,Y)\n",
        "​\n",
        "\n",
        "Where:\n",
        "\n",
        "Cov\n",
        "(\n",
        "𝑋\n",
        ",\n",
        "𝑌\n",
        ")\n",
        "Cov(X,Y): Covariance of\n",
        "𝑋\n",
        "X and\n",
        "𝑌\n",
        "Y.\n",
        "𝜎\n",
        "𝑋\n",
        "σ\n",
        "X\n",
        "​\n",
        " : Standard deviation of\n",
        "𝑋\n",
        "X.\n",
        "𝜎\n",
        "𝑌\n",
        "σ\n",
        "Y\n",
        "​\n",
        " : Standard deviation of\n",
        "𝑌\n",
        "Y.\n",
        "Importance of Correlation in ML:\n",
        "Feature Selection:\n",
        "\n",
        "High correlation between features and the target variable indicates predictive power.\n",
        "Removing highly correlated features (multicollinearity) can improve model performance and interpretability.\n",
        "Data Preprocessing:\n",
        "\n",
        "Correlation analysis can help identify redundant features.\n",
        "Understanding Relationships:\n",
        "\n",
        "Helps in understanding the data and interpreting relationships between variables.\n",
        "Improving Model Performance:\n",
        "\n",
        "Identifying and eliminating highly correlated features can prevent overfitting in certain models like linear regression.\n",
        "Example:\n",
        "Consider a dataset with features like temperature and ice cream sales:\n",
        "\n",
        "A positive correlation between temperature and sales means hotter weather increases sales.\n",
        "Correlation analysis helps determine which features (e.g., temperature) to prioritize for predictive modeling.\n",
        "In summary, correlation is a foundational concept that helps in exploring and preprocessing data in machine learning pipelines.\n",
        "\n",
        "\n",
        "\n",
        "\n",
        "\n",
        "You said:\n",
        "What does negative correlation mean?\n",
        "ChatGPT said:\n",
        "ChatGPT\n",
        "Negative correlation means that two variables are inversely related: as one variable increases, the other decreases, and vice versa. In a graph, this relationship is typically represented by a downward-sloping line.\n",
        "\n",
        "Key Features of Negative Correlation:\n",
        "Range:\n",
        "\n",
        "The correlation coefficient (\n",
        "𝑟\n",
        "r) for negative correlation lies between 0 and -1.\n",
        "𝑟\n",
        "=\n",
        "−\n",
        "1\n",
        "r=−1: Perfect negative correlation (a one-unit increase in one variable results in a proportional decrease in the other).\n",
        "𝑟\n",
        "=\n",
        "0\n",
        "r=0: No correlation (no linear relationship).\n",
        "Behavior:\n",
        "\n",
        "When one variable rises, the other falls.\n",
        "The strength of the correlation depends on the magnitude of\n",
        "𝑟\n",
        "r:\n",
        "Closer to -1: Stronger negative correlation.\n",
        "Closer to 0: Weaker negative correlation.\n",
        "Examples:\n",
        "\n",
        "Temperature vs. Heating Costs: As temperature rises, heating costs decrease.\n",
        "Speed vs. Travel Time: As speed increases, travel time decreases.\n",
        "Demand vs. Price (for some goods): As price increases, demand decreases.\n",
        "Formula for Pearson Correlation (Negative Values):\n",
        "𝑟\n",
        "=\n",
        "Cov\n",
        "(\n",
        "𝑋\n",
        ",\n",
        "𝑌\n",
        ")\n",
        "𝜎\n",
        "𝑋\n",
        "⋅\n",
        "𝜎\n",
        "𝑌\n",
        "r=\n",
        "σ\n",
        "X\n",
        "​\n",
        " ⋅σ\n",
        "Y\n",
        "​\n",
        "\n",
        "Cov(X,Y)\n",
        "​\n",
        "\n",
        "Negative\n",
        "Cov\n",
        "(\n",
        "𝑋\n",
        ",\n",
        "𝑌\n",
        ")\n",
        "Cov(X,Y) leads to negative\n",
        "𝑟\n",
        "r, indicating that\n",
        "𝑋\n",
        "X and\n",
        "𝑌\n",
        "Y move in opposite directions."
      ],
      "metadata": {
        "id": "FNx2GRUjy4yQ"
      },
      "execution_count": null,
      "outputs": []
    },
    {
      "cell_type": "code",
      "source": [
        "#3. Define Machine Learning. What are the main components in Machine Learning?"
      ],
      "metadata": {
        "id": "8hhtkO7Dy41_"
      },
      "execution_count": null,
      "outputs": []
    },
    {
      "cell_type": "code",
      "source": [
        "Definition of Machine Learning (ML):\n",
        "Machine Learning is a subset of artificial intelligence (AI) that enables computers to learn and make predictions or decisions without being explicitly programmed. It involves developing algorithms that can identify patterns, extract insights, and improve performance through experience (data).\n",
        "\n",
        "Formal Definition:\n",
        "Machine Learning is the study of algorithms and statistical models that use data to perform specific tasks, such as classification, prediction, or clustering, without requiring explicit instructions.\n",
        "\n",
        "Main Components of Machine Learning:\n",
        "Data:\n",
        "\n",
        "The foundation of any machine learning process.\n",
        "Can be structured (tabular data), unstructured (images, text), or semi-structured.\n",
        "High-quality, representative, and well-prepared data is essential for building accurate models.\n",
        "Features (Independent Variables):\n",
        "\n",
        "Attributes or inputs that describe the data.\n",
        "Feature engineering (creation, selection, and transformation) is critical for improving model performance.\n",
        "Target Variable (Dependent Variable):\n",
        "\n",
        "The output or result the model is designed to predict.\n",
        "Examples: Labels in classification, numerical values in regression.\n",
        "Model:\n",
        "\n",
        "An algorithm that learns patterns from data and generalizes them for making predictions.\n",
        "Types of models:\n",
        "Supervised Learning: Classification (e.g., logistic regression) and regression (e.g., linear regression).\n",
        "Unsupervised Learning: Clustering (e.g., K-Means) and dimensionality reduction (e.g., PCA).\n",
        "Reinforcement Learning: Decision-making based on rewards and penalties.\n",
        "Training:\n",
        "\n",
        "The process where the model learns from data by adjusting its parameters to minimize error.\n",
        "Involves feeding the training dataset to the model and optimizing it using techniques like gradient descent.\n",
        "Evaluation:\n",
        "\n",
        "Assessing the performance of the trained model using metrics such as accuracy, precision, recall, F1 score, RMSE (root mean squared error), etc.\n",
        "Performed on a separate validation or test dataset.\n",
        "Optimization:\n",
        "\n",
        "The process of improving the model's performance by tuning parameters (weights) and hyperparameters (e.g., learning rate, number of layers).\n",
        "Techniques include grid search, random search, and Bayesian optimization.\n",
        "Prediction:\n",
        "\n",
        "Applying the trained model to new, unseen data to generate outputs.\n",
        "The primary goal is to generalize well to make accurate predictions.\n",
        "Feedback Loop:\n",
        "\n",
        "Continuously monitoring and updating the model based on new data and changing requirements to improve performance."
      ],
      "metadata": {
        "id": "7EnLNVlDz9uJ"
      },
      "execution_count": null,
      "outputs": []
    },
    {
      "cell_type": "code",
      "source": [
        "#4. How does loss value help in determining whether the model is good or not?"
      ],
      "metadata": {
        "id": "IOcV4i6Az98Z"
      },
      "execution_count": null,
      "outputs": []
    },
    {
      "cell_type": "code",
      "source": [
        "The loss value in machine learning quantifies how well or poorly a model performs on a given dataset. It is a critical metric for evaluating a model's performance during training and guides the optimization process to improve the model.\n",
        "\n",
        "How Loss Value Helps:\n",
        "Measures Prediction Error:\n",
        "\n",
        "The loss value represents the difference between the model's predictions and the actual target values.\n",
        "Lower loss values indicate better alignment between predictions and true values, suggesting a better model.\n",
        "Guides Model Optimization:\n",
        "\n",
        "Loss values are used by optimization algorithms (e.g., gradient descent) to adjust the model's parameters (weights and biases) during training.\n",
        "The goal is to minimize the loss function, which directly translates to improving the model's performance.\n",
        "Detects Overfitting or Underfitting:\n",
        "\n",
        "Overfitting: Loss on the training set is low, but high on the validation/test set.\n",
        "Underfitting: Loss is high on both training and validation/test sets, indicating the model is too simple or not trained enough.\n",
        "Evaluates Model Generalization:\n",
        "\n",
        "By comparing loss on the training set to loss on validation/test sets, we can assess whether the model generalizes well to unseen data.\n",
        "Characteristics of Loss Value:\n",
        "High Loss: Indicates poor performance; the model's predictions deviate significantly from the true values.\n",
        "Low Loss: Indicates good performance; the model's predictions closely match the true values.\n",
        "Converging Loss: A loss value that consistently decreases during training suggests the model is learning.\n",
        "Common Loss Functions:\n",
        "Different tasks use different loss functions, tailored to the type of problem:\n",
        "\n",
        "Regression:\n",
        "\n",
        "Mean Squared Error (MSE): Penalizes larger errors more heavily.\n",
        "Mean Absolute Error (MAE): Penalizes errors linearly.\n",
        "Classification:\n",
        "\n",
        "Cross-Entropy Loss (Log Loss): Common for multi-class classification tasks.\n",
        "Hinge Loss: Used for support vector machines.\n",
        "Binary Classification:\n",
        "\n",
        "Binary Cross-Entropy: Measures the performance of a classification model predicting probabilities.\n"
      ],
      "metadata": {
        "id": "CmlwmdhHz9_s"
      },
      "execution_count": null,
      "outputs": []
    },
    {
      "cell_type": "code",
      "source": [
        "#5. What are continuous and categorical variables?"
      ],
      "metadata": {
        "id": "5PEw7iZfz-DG"
      },
      "execution_count": null,
      "outputs": []
    },
    {
      "cell_type": "code",
      "source": [
        "In machine learning and statistics, continuous and categorical variables are two main types of variables used to describe data. Understanding the difference between them is essential for selecting appropriate modeling techniques and preprocessing methods.\n",
        "\n",
        "1. Continuous Variables\n",
        "Definition:\n",
        "Continuous variables are numeric variables that can take any value within a range. They are typically measured and have an infinite number of possible values between any two points.\n",
        "\n",
        "Key Characteristics:\n",
        "\n",
        "Represent measurable quantities.\n",
        "Can have decimal or fractional values.\n",
        "Typically follow a natural order or scale.\n",
        "Examples:\n",
        "\n",
        "Height (e.g., 175.5 cm)\n",
        "Temperature (e.g., 36.6°C)\n",
        "Price (e.g., ₹150.75)\n",
        "Time (e.g., 2.5 hours)\n",
        "How They Are Handled in ML:\n",
        "\n",
        "Can be directly used in most algorithms without preprocessing.\n",
        "Often require normalization or standardization to bring them to a comparable scale.\n",
        "2. Categorical Variables\n",
        "Definition:\n",
        "Categorical variables represent categories or groups and typically have a finite set of discrete values. They can be nominal or ordinal.\n",
        "\n",
        "Types:\n",
        "\n",
        "Nominal: Categories without a natural order.\n",
        "Example: Colors (Red, Green, Blue), Gender (Male, Female), or City Names (Mumbai, Delhi, Chennai).\n",
        "Ordinal: Categories with a meaningful order but no consistent difference between values.\n",
        "Example: Education Level (High School < Bachelor's < Master's), or Ratings (Low, Medium, High).\n",
        "Key Characteristics:\n",
        "\n",
        "Represent qualitative information.\n",
        "Cannot be measured but can be counted or classified.\n",
        "May be encoded as numbers for computational purposes.\n",
        "How They Are Handled in ML:\n",
        "\n",
        "Encoding is required to convert categories into numeric values:\n",
        "One-Hot Encoding: Creates binary columns for each category (used for nominal variables).\n",
        "Label Encoding: Assigns a unique integer to each category (used for ordinal variables or\n",
        "                                                           nominal when order doesn’t matter).\n",
        "Some algorithms, like decision trees, can handle categorical variables natively.In machine learning\n",
        "and statistics, continuous and categorical variables are two main types of variables used to describe data.\n",
        " Understanding the difference between them is essential for selecting appropriate modeling techniques\n",
        " and preprocessing methods.\n",
        "\n",
        "1. Continuous Variables\n",
        "Definition:\n",
        "Continuous variables are numeric variables that can take any value within a range. They are typically measured\n",
        "and have an infinite number of possible values between any two points.\n",
        "\n",
        "Key Characteristics:\n",
        "\n",
        "Represent measurable quantities.\n",
        "Can have decimal or fractional values.\n",
        "Typically follow a natural order or scale.\n",
        "Examples:\n",
        "\n",
        "Height (e.g., 175.5 cm)\n",
        "Temperature (e.g., 36.6°C)\n",
        "Price (e.g., ₹150.75)\n",
        "Time (e.g., 2.5 hours)\n",
        "How They Are Handled in ML:\n",
        "\n",
        "Can be directly used in most algorithms without preprocessing.\n",
        "Often require normalization or standardization to bring them to a comparable scale.\n",
        "2. Categorical Variables\n",
        "Definition:\n",
        "Categorical variables represent categories or groups and typically have a finite set of discrete values.\n",
        "They can be nominal or ordinal.\n",
        "\n",
        "Types:\n",
        "\n",
        "Nominal: Categories without a natural order.\n",
        "Example: Colors (Red, Green, Blue), Gender (Male, Female), or City Names (Mumbai, Delhi, Chennai).\n",
        "Ordinal: Categories with a meaningful order but no consistent difference between values.\n",
        "Example: Education Level (High School < Bachelor's < Master's), or Ratings (Low, Medium, High).\n",
        "Key Characteristics:\n",
        "\n",
        "Represent qualitative information.\n",
        "Cannot be measured but can be counted or classified.\n",
        "May be encoded as numbers for computational purposes.\n",
        "How They Are Handled in ML:\n",
        "\n",
        "Encoding is required to convert categories into numeric values:\n",
        "One-Hot Encoding: Creates binary columns for each category (used for nominal variables).\n",
        "Label Encoding: Assigns a unique integer to each category (used for ordinal variables or\n",
        "                                                           nominal when order doesn’t matter).\n",
        "Some algorithms, like decision trees, can handle categorical variables natively."
      ],
      "metadata": {
        "id": "4Samd-7bz-JZ"
      },
      "execution_count": null,
      "outputs": []
    },
    {
      "cell_type": "code",
      "source": [
        "# #6. How do we handle categorical variables in Machine Learning? What are the common t\n",
        "# echniques?"
      ],
      "metadata": {
        "id": "utedJ9VRz-Pq"
      },
      "execution_count": null,
      "outputs": []
    },
    {
      "cell_type": "code",
      "source": [
        "Handling categorical variables in machine learning is essential for creating effective models, as most algorithms require numeric inputs. Several techniques can be used to convert categorical data into numerical representations while preserving their meaning.\n",
        "\n",
        "Common Techniques for Handling Categorical Variables:\n",
        "Label Encoding:\n",
        "\n",
        "Description: Assigns a unique integer to each category.\n",
        "Use Case: Best for ordinal variables where the categories have a meaningful order (e.g., Low = 0, Medium = 1, High = 2).\n",
        "Example:\n",
        "text\n",
        "Copy code\n",
        "Input: ['Red', 'Green', 'Blue']\n",
        "Encoded: [0, 1, 2]\n",
        "Pros: Simple and fast.\n",
        "Cons: Implicitly assumes an order, which may not exist for nominal variables.\n",
        "One-Hot Encoding:\n",
        "\n",
        "Description: Converts each category into a binary column (0 or 1).\n",
        "Use Case: Suitable for nominal variables with no inherent order.\n",
        "Example:\n",
        "text\n",
        "Copy code\n",
        "Input: ['Red', 'Green', 'Blue']\n",
        "Encoded:\n",
        "Red    Green    Blue\n",
        "1      0        0\n",
        "0      1        0\n",
        "0      0        1\n",
        "Pros: Avoids introducing ordinal relationships where none exist.\n",
        "Cons: Increases dimensionality significantly for variables with many categories (known as the \"curse of dimensionality\").\n",
        "Binary Encoding:\n",
        "\n",
        "Description: Converts categories into binary format and represents each as binary digits.\n",
        "Use Case: Useful when the number of unique categories is large.\n",
        "Example:\n",
        "text\n",
        "Copy code\n",
        "Input: ['Red', 'Green', 'Blue']\n",
        "Categories: {'Red': 1, 'Green': 2, 'Blue': 3}\n",
        "Binary: [001, 010, 011]\n",
        "Pros: Reduces dimensionality compared to one-hot encoding.\n",
        "Cons: May not be interpretable for small datasets.\n",
        "Frequency Encoding:\n",
        "\n",
        "Description: Replaces each category with its frequency (count) in the dataset.\n",
        "Use Case: Useful for large datasets or when frequency carries meaningful information."
      ],
      "metadata": {
        "id": "x7DriJEuz-Vn"
      },
      "execution_count": null,
      "outputs": []
    },
    {
      "cell_type": "code",
      "source": [
        "#7. What do you mean by training and testing a dataset?"
      ],
      "metadata": {
        "id": "QqBRfWc3z-b5"
      },
      "execution_count": null,
      "outputs": []
    },
    {
      "cell_type": "code",
      "source": [
        "Training and testing a dataset are steps in the machine learning pipeline:\n",
        "\n",
        "Training Dataset: This subset of data is used to train the machine learning model. The model learns patterns, relationships, and trends from this data.\n",
        "\n",
        "Testing Dataset: This separate subset of data is used to evaluate the model's performance. It ensures that the model generalizes well to unseen data.\n",
        "\n",
        "The separation of training and testing data helps avoid overfitting and ensures the model's performance is assessed fairly.\n",
        "\n"
      ],
      "metadata": {
        "id": "vaaYNn8Wz-hx"
      },
      "execution_count": null,
      "outputs": []
    },
    {
      "cell_type": "code",
      "source": [
        "#8. What is sklearn.preprocessing?"
      ],
      "metadata": {
        "id": "A8fghSPr1I9e"
      },
      "execution_count": null,
      "outputs": []
    },
    {
      "cell_type": "code",
      "source": [
        "What is sklearn.preprocessing?\n",
        "sklearn.preprocessing is a module in the Scikit-learn library that provides tools for preprocessing and transforming data before feeding it to machine learning models. Common preprocessing techniques include:\n",
        "\n",
        "Scaling: Standardize features by scaling them to a fixed range (e.g., StandardScaler, MinMaxScaler).\n",
        "Normalization: Adjust the data to have unit norm (e.g., Normalizer).\n",
        "Encoding: Convert categorical variables into numerical formats (e.g., LabelEncoder, OneHotEncoder).\n",
        "Imputation: Handle missing values by filling them with a specific value or statistic (e.g., SimpleImputer).\n",
        "Proper preprocessing ensures that the data is in a format suitable for machine learning models.\n",
        "\n"
      ],
      "metadata": {
        "id": "Df_qTBD81J33"
      },
      "execution_count": null,
      "outputs": []
    },
    {
      "cell_type": "code",
      "source": [
        "#9.What is a Test set?"
      ],
      "metadata": {
        "id": "iqfFvG4g1KAS"
      },
      "execution_count": null,
      "outputs": []
    },
    {
      "cell_type": "code",
      "source": [
        "The test set is a portion of the dataset reserved for evaluating the final performance of a trained machine learning model. It is kept separate from the training process to provide an unbiased assessment of how well the model generalizes to new, unseen data.\n",
        "\n",
        "Key characteristics of a test set:\n",
        "\n",
        "It is never used during training.\n",
        "It should represent the same distribution as the training data.\n",
        "Its size is typically 20–30% of the total dataset."
      ],
      "metadata": {
        "id": "2vtMo3i81KFR"
      },
      "execution_count": null,
      "outputs": []
    },
    {
      "cell_type": "code",
      "source": [
        "#10. How do we split data for model fitting (training and testing) in Python?"
      ],
      "metadata": {
        "id": "XtrYkGo51KJm"
      },
      "execution_count": null,
      "outputs": []
    },
    {
      "cell_type": "code",
      "source": [
        "In Python, you can use the train_test_split function from the Scikit-learn library to split your dataset into training and testing subsets.\n",
        "\n",
        "Here is an example:\n",
        "\n",
        "python\n",
        "Copy code\n",
        "from sklearn.model_selection import train_test_split\n",
        "\n",
        "# Example dataset (features and target)\n",
        "X = [[1], [2], [3], [4], [5]]  # Features\n",
        "y = [0, 1, 0, 1, 0]            # Target labels\n",
        "\n",
        "# Splitting the data into training and testing sets (80% train, 20% test)\n",
        "X_train, X_test, y_train, y_test = train_test_split(X, y, test_size=0.2, random_state=42)\n",
        "\n",
        "print(\"Training Features:\", X_train)\n",
        "print(\"Testing Features:\", X_test)\n",
        "print(\"Training Labels:\", y_train)\n",
        "print(\"Testing Labels:\", y_test)\n",
        "Parameters in train_test_split:\n",
        "\n",
        "test_size: Fraction of the data to be used as the test set (e.g., 0.2 means 20% test data).\n",
        "random_state: Ensures reproducibility by setting a seed for random splitting.\n",
        "shuffle: Whether to shuffle the data before splitting (default is True).\n",
        "This function ensures a reliable and systematic way to prepare data for model evaluation."
      ],
      "metadata": {
        "id": "DI-M1KK91tP8"
      },
      "execution_count": null,
      "outputs": []
    },
    {
      "cell_type": "code",
      "source": [
        "#How do you approach a Machine Learning problem?"
      ],
      "metadata": {
        "id": "rAMtYGBC1KNS"
      },
      "execution_count": null,
      "outputs": []
    },
    {
      "cell_type": "code",
      "source": [
        "Approaching a machine learning problem involves a structured process to ensure that the solution is effective, reliable, and interpretable. Here's a step-by-step approach:\n",
        "\n",
        "1. Understand the Problem\n",
        "Define the Objective: What is the problem you're solving? (e.g., classification, regression, clustering, etc.)\n",
        "Understand the Domain: Gather knowledge about the industry, domain, or context of the data.\n",
        "Clarify Success Metrics: Identify how you will evaluate your model (e.g., accuracy, F1 score, RMSE).\n",
        "2. Data Collection\n",
        "Identify Data Sources: Obtain the data required to solve the problem.\n",
        "Ensure Data Relevance: Ensure the data matches the problem's context.\n",
        "Check for Completeness: Verify if the dataset covers all scenarios and edge cases.\n",
        "3. Data Exploration and Understanding\n",
        "EDA (Exploratory Data Analysis):\n",
        "Visualize data to understand distributions, trends, and relationships.\n",
        "Use statistical methods to summarize data characteristics.\n",
        "Identify Data Issues:\n",
        "Missing values.\n",
        "Outliers.\n",
        "Imbalanced data.\n",
        "4. Data Preprocessing\n",
        "Data Cleaning: Handle missing values, duplicates, and irrelevant data.\n",
        "Feature Engineering:\n",
        "Feature Selection: Identify the most relevant features.\n",
        "Feature Transformation: Apply transformations like scaling, encoding, or normalizing.\n",
        "Handle Imbalances: Use techniques like SMOTE or class weighting for imbalanced datasets.\n",
        "5. Model Selection\n",
        "Choose Model Types:\n",
        "Supervised learning (e.g., Linear Regression, Decision Trees).\n",
        "Unsupervised learning (e.g., K-Means, PCA).\n",
        "Reinforcement learning (e.g., Q-learning).\n",
        "Baseline Model: Start with simple models to set a performance benchmark.\n",
        "6. Model Training\n",
        "Split the Data: Use a train_test_split to divide data into training and testing sets.\n",
        "Cross-Validation: Use techniques like k-fold cross-validation to validate the model on unseen subsets.\n",
        "Hyperparameter Tuning: Use grid search, random search, or Bayesian optimization to optimize model parameters.\n",
        "7. Model Evaluation\n",
        "Evaluate on Test Data: Measure the model's performance using metrics like:\n",
        "Classification: Accuracy, Precision, Recall, F1 Score, ROC-AUC.\n",
        "Regression: RMSE, MAE, R² Score.\n",
        "Analyze Errors: Investigate misclassified cases or residuals to understand model weaknesses.\n",
        "8. Model Deployment\n",
        "Prepare for Production: Save the model using formats like pickle or joblib.\n",
        "Create APIs: Build interfaces (e.g., REST APIs) for model integration.\n",
        "Monitoring: Continuously monitor the model's performance post-deployment.\n",
        "9. Iterative Improvement\n",
        "Gather feedback from users or stakeholders.\n",
        "Improve the model using more data, new features, or advanced techniques.\n",
        "Validate changes with rigorous testing.\n",
        "10. Documentation and Communication\n",
        "Document the Process: Clearly record steps, decisions, and results.\n",
        "Communicate Insights: Present results to stakeholders using reports or dashboards.\n",
        "Example Workflow for a Regression Problem"
      ],
      "metadata": {
        "id": "p5fCebib1KRN"
      },
      "execution_count": null,
      "outputs": []
    },
    {
      "cell_type": "code",
      "source": [
        "#11. Why do we have to perform EDA before fitting a model to the data?"
      ],
      "metadata": {
        "id": "cVuXEQp21KUn"
      },
      "execution_count": null,
      "outputs": []
    },
    {
      "cell_type": "code",
      "source": [
        "Exploratory Data Analysis (EDA) is crucial because it helps you:\n",
        "\n",
        "Understand the structure, patterns, and relationships within the data.\n",
        "Identify missing values, outliers, and errors that might affect the model's performance.\n",
        "Choose the right preprocessing steps, such as handling missing data, scaling features, or encoding categorical variables.\n",
        "Select the most relevant features and determine if data transformations are required.\n",
        "Visualize data distributions and relationships to inform model selection and tuning."
      ],
      "metadata": {
        "id": "nxXSe02K1Ka7"
      },
      "execution_count": null,
      "outputs": []
    },
    {
      "cell_type": "code",
      "source": [
        "#12. What is correlation?"
      ],
      "metadata": {
        "id": "wBJFfqNQ1KhR"
      },
      "execution_count": null,
      "outputs": []
    },
    {
      "cell_type": "code",
      "source": [
        "Correlation refers to a statistical measure that describes the extent to which two variables change together. If two variables are correlated, it means when one changes, the other tends to change in a predictable manner. The correlation value ranges from -1 to 1:\n",
        "\n",
        "1 indicates a perfect positive correlation.\n",
        "-1 indicates a perfect negative correlation.\n",
        "0 indicates no correlation."
      ],
      "metadata": {
        "id": "al2C68Td1Kjn"
      },
      "execution_count": null,
      "outputs": []
    },
    {
      "cell_type": "code",
      "source": [
        "#13. What does negative correlation mean?"
      ],
      "metadata": {
        "id": "gNhZskD11Kl3"
      },
      "execution_count": null,
      "outputs": []
    },
    {
      "cell_type": "code",
      "source": [
        "Negative correlation means that as one variable increases,\n",
        "the other decreases in a linear relationship. For example, the more you exercise,\n",
        " the less you weigh, implying a negative correlation between exercise and weight."
      ],
      "metadata": {
        "id": "MTERhUaL1Kos"
      },
      "execution_count": null,
      "outputs": []
    },
    {
      "cell_type": "code",
      "source": [
        "#14. How can you find correlation between variables in Python?"
      ],
      "metadata": {
        "id": "rLYToIpn1Krb"
      },
      "execution_count": null,
      "outputs": []
    },
    {
      "cell_type": "code",
      "source": [
        "In Python, you can use the pandas library to compute the correlation between variables:\n",
        "\n",
        "python\n",
        "Copy code\n",
        "import pandas as pd\n",
        "data = pd.DataFrame({'A': [1, 2, 3], 'B': [4, 5, 6]})\n",
        "correlation_matrix = data.corr()\n",
        "print(correlation_matrix)\n",
        "The .corr() function calculates the Pearson correlation coefficient between\n",
        "all pairs of variables in the dataframe."
      ],
      "metadata": {
        "id": "7qnln8FC1Kut"
      },
      "execution_count": null,
      "outputs": []
    },
    {
      "cell_type": "code",
      "source": [
        "#15. What is causation? Explain difference between correlation and causation with an example."
      ],
      "metadata": {
        "id": "X9zGVQlu1Kyn"
      },
      "execution_count": null,
      "outputs": []
    },
    {
      "cell_type": "code",
      "source": [
        "Causation implies that one event directly causes another to happen. In contrast,\n",
        "correlation simply indicates that two events are related,\n",
        "but not necessarily that one causes the other.\n",
        "\n",
        "Example:\n",
        "Correlation: There might be a positive correlation between the number\n",
        "of ice creams sold and the number of drowning incidents. However,\n",
        "this does not mean ice cream sales cause drownings.\n",
        "Causation: If you increase the temperature in a room,\n",
        "it directly causes the air conditioner to work harder, demonstrating causation."
      ],
      "metadata": {
        "id": "KHd73Cmh1K1_"
      },
      "execution_count": null,
      "outputs": []
    },
    {
      "cell_type": "code",
      "source": [
        "#16. What is causation? Explain difference between correlation and causation with an example."
      ],
      "metadata": {
        "id": "W0kVZtmZ3CUW"
      },
      "execution_count": null,
      "outputs": []
    },
    {
      "cell_type": "code",
      "source": [
        "Causation implies that one event directly causes another to happen.\n",
        " In contrast, correlation simply indicates that two events are related,\n",
        " but not necessarily that one causes the other.\n",
        "Example:\n",
        "Correlation: There might be a positive correlation between the number of\n",
        " ice creams sold and the number of drowning incidents. However, this does\n",
        " not mean ice cream sales cause drownings.\n",
        "Causation: If you increase the temperature in a room, it directly causes\n",
        "the air conditioner to work harder, demonstrating causation."
      ],
      "metadata": {
        "id": "vxUDoq2N3Cpo"
      },
      "execution_count": null,
      "outputs": []
    },
    {
      "cell_type": "code",
      "source": [
        "#17. What is an Optimizer? What are different types of optimizers? Explain each with an example ?"
      ],
      "metadata": {
        "id": "sbvNN5-r3CvM"
      },
      "execution_count": null,
      "outputs": []
    },
    {
      "cell_type": "code",
      "source": [
        "Optimizer\n",
        "An optimizer is an algorithm used to minimize (or maximize) an objective function by\n",
        "adjusting the parameters (weights) of a model. In machine learning, optimizers are responsible for\n",
        "updating the model's parameters during training to minimize the loss function.\n",
        "\n",
        "Types of Optimizers\n",
        "Gradient Descent (GD):\n",
        "\n",
        "Description: Iteratively adjusts parameters by moving in the direction of\n",
        "the negative gradient of the loss function.\n",
        "Example: A simple optimization algorithm used in linear regression or\n",
        "neural networks where weights are updated based on the gradient.\n",
        "Formula:\n",
        "𝜃\n",
        "=\n",
        "𝜃\n",
        "−\n",
        "𝜂\n",
        "∇\n",
        "𝜃\n",
        "𝐽\n",
        "(\n",
        "𝜃\n",
        ")\n",
        "θ=θ−η∇\n",
        "θ\n",
        "​\n",
        " J(θ)\n",
        "where\n",
        "𝜃\n",
        "θ is the model's parameter,\n",
        "𝜂\n",
        "η is the learning rate, and\n",
        "∇\n",
        "𝜃\n",
        "𝐽\n",
        "(\n",
        "𝜃\n",
        ")\n",
        "∇\n",
        "θ\n",
        "​\n",
        " J(θ) is the gradient of the loss function.\n",
        "Stochastic Gradient Descent (SGD):\n",
        "\n",
        "Description: A variation of gradient descent where the model parameters are\n",
        "updated after each training example (stochastic). It is faster than regular gradient descent.\n",
        "Example: Used for online learning and real-time model updates, often used in deep learning.\n",
        "Mini-Batch Gradient Descent:\n",
        "\n",
        "Description: A compromise between batch and stochastic gradient descent.\n",
        "The model parameters are updated after a small random subset (mini-batch) of data.\n",
        "Example: Used in deep learning for more efficient training.\n",
        "Momentum Optimizer:\n",
        "\n",
        "Description: Improves the gradient descent by considering previous gradients to\n",
        "speed up convergence and reduce oscillations.\n",
        "Example: Often used in deep learning where it can converge faster compared to plain gradient descent.\n",
        "Adam Optimizer (Adaptive Moment Estimation):\n",
        "\n",
        "Description: Combines the advantages of both the SGD with momentum and\n",
        "the RMSProp (Root Mean Square Propagation). It adapts the learning rate for each parameter.\n",
        "Example: A popular optimizer in deep learning models for faster convergence.\n",
        "Formula:\n",
        "𝑚\n",
        "𝑡\n",
        "=\n",
        "𝛽\n",
        "1\n",
        "𝑚\n",
        "𝑡\n",
        "−\n",
        "1\n",
        "+\n",
        "(\n",
        "1\n",
        "−\n",
        "𝛽\n",
        "1\n",
        ")\n",
        "∇\n",
        "𝜃\n",
        "𝐽\n",
        "(\n",
        "𝜃\n",
        ")\n",
        "m\n",
        "t\n",
        "​\n",
        " =β\n",
        "1\n",
        "​\n",
        " m\n",
        "t−1\n",
        "​\n",
        " +(1−β\n",
        "1\n",
        "​\n",
        " )∇\n",
        "θ\n",
        "​\n",
        " J(θ)\n",
        "𝑣\n",
        "𝑡\n",
        "=\n",
        "𝛽\n",
        "2\n",
        "𝑣\n",
        "𝑡\n",
        "−\n",
        "1\n",
        "+\n",
        "(\n",
        "1\n",
        "−\n",
        "𝛽\n",
        "2\n",
        ")\n",
        "(\n",
        "∇\n",
        "𝜃\n",
        "𝐽\n",
        "(\n",
        "𝜃\n",
        ")\n",
        ")\n",
        "2\n",
        "v\n",
        "t\n",
        "​\n",
        " =β\n",
        "2\n",
        "​\n",
        " v\n",
        "t−1\n",
        "​\n",
        " +(1−β\n",
        "2\n",
        "​\n",
        " )(∇\n",
        "θ\n",
        "​\n",
        " J(θ))\n",
        "2\n",
        "\n",
        "where\n",
        "𝑚\n",
        "𝑡\n",
        "m\n",
        "t\n",
        "​\n",
        "  and\n",
        "𝑣\n",
        "𝑡\n",
        "v\n",
        "t\n",
        "​\n",
        "  are estimates of the first and second moments of the gradients.\n"
      ],
      "metadata": {
        "id": "AZ6ze3SC3C0H"
      },
      "execution_count": null,
      "outputs": []
    },
    {
      "cell_type": "code",
      "source": [
        "#17. What is sklearn.linear_model ?"
      ],
      "metadata": {
        "id": "cveSDIga3C6I"
      },
      "execution_count": null,
      "outputs": []
    },
    {
      "cell_type": "code",
      "source": [
        "sklearn.linear_model\n",
        "sklearn.linear_model is a module from the scikit-learn library that provides linear models\n",
        "for regression, classification, and other tasks. It includes algorithms such as:\n",
        "\n",
        "LinearRegression: For linear regression.\n",
        "LogisticRegression: For logistic regression.\n",
        "Ridge: For Ridge regression (regularized linear regression).\n",
        "Lasso: For Lasso regression (another form of regularized linear regression)."
      ],
      "metadata": {
        "id": "ZDLCW4rW3C_Z"
      },
      "execution_count": null,
      "outputs": []
    },
    {
      "cell_type": "code",
      "source": [
        "#18. What does model.fit() do? What arguments must be given?"
      ],
      "metadata": {
        "id": "XW1PVXTR9VGU"
      },
      "execution_count": null,
      "outputs": []
    },
    {
      "cell_type": "code",
      "source": [
        "model.fit() in Machine Learning\n",
        "model.fit() is a method used to train the machine learning model on the given data.\n",
        "It learns the parameters of the model based on the data provided.\n",
        "\n",
        "Arguments:\n",
        "X (features): The input data (usually a 2D array or DataFrame where rows represent samples\n",
        "                              and columns represent features).\n",
        "y (target): The labels or target values (for supervised learning). This is a 1D array or\n",
        "series with the target values for each sample in X.\n",
        "Example:\n",
        "python\n",
        "Copy code\n",
        "model.fit(X_train, y_train)\n"
      ],
      "metadata": {
        "id": "AKhbe2-I9VOt"
      },
      "execution_count": null,
      "outputs": []
    },
    {
      "cell_type": "code",
      "source": [
        "#19. What does model.predict() do? What arguments must be given?"
      ],
      "metadata": {
        "id": "EsdPcGwL9VUR"
      },
      "execution_count": null,
      "outputs": []
    },
    {
      "cell_type": "code",
      "source": [
        "model.predict() in Machine Learning\n",
        "model.predict() is a method that predicts the target values for new,\n",
        " unseen data after the model has been trained.\n",
        "\n",
        "Arguments:\n",
        "\n",
        "X (features): New input data (it must have the same number of features as the data used in fit()).\n",
        "Example:\n",
        "\n",
        "python\n",
        "Copy code\n",
        "y_pred = model.predict(X_test)"
      ],
      "metadata": {
        "id": "AkhCiGPT9VZp"
      },
      "execution_count": null,
      "outputs": []
    },
    {
      "cell_type": "code",
      "source": [
        "#20. What are continuous and categorical variables?"
      ],
      "metadata": {
        "id": "AadROG8g9Vek"
      },
      "execution_count": null,
      "outputs": []
    },
    {
      "cell_type": "code",
      "source": [
        "Continuous and Categorical Variables\n",
        "Continuous Variables: Variables that can take an infinite number of values within a range. They are typically numeric and represent measurements. Examples include height, weight, and temperature.\n",
        "\n",
        "Categorical Variables: Variables that represent categories or distinct groups. They can be nominal (no order) or ordinal (ordered). Examples include gender, country, and education level."
      ],
      "metadata": {
        "id": "Fuqcl9jv9seS"
      },
      "execution_count": null,
      "outputs": []
    },
    {
      "cell_type": "code",
      "source": [
        "#21. What is feature scaling? How does it help in Machine Learning?"
      ],
      "metadata": {
        "id": "KJw-9xIi9slv"
      },
      "execution_count": null,
      "outputs": []
    },
    {
      "cell_type": "code",
      "source": [
        "Feature Scaling\n",
        "Feature scaling refers to the process of normalizing or\n",
        " standardizing the range of independent variables or features.\n",
        "This is important for machine learning algorithms that rely on\n",
        "distances (e.g., K-nearest neighbors, SVM) or gradients (e.g., gradient descent),\n",
        "as features with larger scales may disproportionately affect the model.\n",
        "\n",
        "Methods:\n",
        "Normalization (Min-Max Scaling): Scales the features to a fixed range, typically [0, 1].\n",
        "Standardization (Z-score normalization): Scales the features so they have a mean of 0\n",
        "and a standard deviation of 1."
      ],
      "metadata": {
        "id": "ySJn2YsR9sp0"
      },
      "execution_count": null,
      "outputs": []
    },
    {
      "cell_type": "code",
      "source": [
        "#22. How do we perform scaling in Python?"
      ],
      "metadata": {
        "id": "zL3TYWK39sun"
      },
      "execution_count": null,
      "outputs": []
    },
    {
      "cell_type": "code",
      "source": [
        "Scaling in Python\n",
        "You can perform scaling using the scikit-learn library.\n",
        "\n",
        "Min-Max Scaling:\n",
        "\n",
        "python\n",
        "Copy code\n",
        "from sklearn.preprocessing import MinMaxScaler\n",
        "scaler = MinMaxScaler()\n",
        "X_scaled = scaler.fit_transform(X)"
      ],
      "metadata": {
        "id": "9jX1CAvg-Dug"
      },
      "execution_count": null,
      "outputs": []
    },
    {
      "cell_type": "code",
      "source": [
        "#23. What is sklearn.preprocessing?"
      ],
      "metadata": {
        "id": "AwJbzOwM-D1t"
      },
      "execution_count": null,
      "outputs": []
    },
    {
      "cell_type": "code",
      "source": [
        "sklearn.preprocessing is a module in the scikit-learn library,\n",
        "which is used for data preprocessing in machine learning tasks.\n",
        "It provides various functions and classes to transform and scale datasets,\n",
        "making them suitable for model training.\n",
        "These preprocessing steps help improve the performance and\n",
        "accuracy of machine learning models by ensuring the data is in a suitable format or scale.\n",
        "\n",
        "Some common functions and classes in sklearn.preprocessing include:\n",
        "\n",
        "StandardScaler: Standardizes features by removing the mean and\n",
        " scaling to unit variance. It's useful when the features have different scales or units.\n",
        "\n",
        "python\n",
        "Copy code\n",
        "from sklearn.preprocessing import StandardScaler\n",
        "scaler = StandardScaler()\n",
        "X_scaled = scaler.fit_transform(X)\n",
        "MinMaxScaler: Scales features to a specified range, often [0, 1].\n",
        " It's helpful when you need to transform features into a common scale.\n",
        "\n",
        "python\n",
        "Copy code\n",
        "from sklearn.preprocessing import MinMaxScaler\n",
        "scaler = MinMaxScaler()\n",
        "X_scaled = scaler.fit_transform(X)\n",
        "Normalizer: Scales individual samples to have unit norm (length).\n",
        "It's typically used when you need to transform data points without altering the original distribution.\n",
        "\n",
        "python\n",
        "Copy code\n",
        "from sklearn.preprocessing import Normalizer\n",
        "normalizer = Normalizer()\n",
        "X_normalized = normalizer.fit_transform(X)\n",
        "OneHotEncoder: Converts categorical variables into\n",
        "a one-hot encoded matrix, turning each category into a binary column (0 or 1).\n",
        "\n",
        "python\n",
        "Copy code\n",
        "from sklearn.preprocessing import OneHotEncoder\n",
        "encoder = OneHotEncoder()\n",
        "X_encoded = encoder.fit_transform(X_categorical)\n",
        "LabelEncoder: Converts categorical labels into integer values, useful for\n",
        "encoding the target labels of a classification task.\n",
        "\n",
        "python\n",
        "Copy code\n",
        "from sklearn.preprocessing import LabelEncoder\n",
        "encoder = LabelEncoder()\n",
        "y_encoded = encoder.fit_transform(y)\n",
        "PolynomialFeatures: Generates polynomial and interaction features,\n",
        " used to increase the feature space by adding polynomial combinations of the features."
      ],
      "metadata": {
        "id": "H8mtGN2w-D6o"
      },
      "execution_count": null,
      "outputs": []
    },
    {
      "cell_type": "code",
      "source": [
        "#24. How do we split data for model fitting (training and testing) in Python?"
      ],
      "metadata": {
        "id": "hy2omBHz-EAA"
      },
      "execution_count": null,
      "outputs": []
    },
    {
      "cell_type": "code",
      "source": [
        "Splitting Data for Model Fitting (Training and Testing) in Python\n",
        "In machine learning, it is common practice to split your data into two parts:\n",
        "training data and testing data.\n",
        "This allows you to train your model on one portion of the data and\n",
        "evaluate its performance on another portion that it has not seen before.\n",
        "\n",
        "To split data in Python, the train_test_split() function from\n",
        "the scikit-learn library is commonly used. Here's how to do it:\n",
        "\n",
        "from sklearn.model_selection import train_test_split\n",
        "\n",
        "# Example data (X = features, y = target)\n",
        "X = ...  # Feature data (e.g., a dataframe or matrix)\n",
        "y = ...  # Target variable (e.g., a vector or series)\n",
        "\n",
        "# Split data into training (80%) and testing (20%) sets\n",
        "X_train, X_test, y_train, y_test = train_test_split(X, y, test_size=0.2, random_state=42)\n",
        "\n",
        "# Now you can use X_train and y_train for training, and X_test and y_test for testing\n",
        "test_size=0.2 means 20% of the data is used for testing, and the remaining 80% is used for training.\n",
        "random_state=42 ensures reproducibility of the results,\n",
        " so if you run the code multiple times, the split will be the same each time."
      ],
      "metadata": {
        "id": "Z7PbflLi-id5"
      },
      "execution_count": null,
      "outputs": []
    },
    {
      "cell_type": "code",
      "source": [
        "#25. Explain data encoding?"
      ],
      "metadata": {
        "id": "wI9Lmf0c-ilN"
      },
      "execution_count": null,
      "outputs": []
    },
    {
      "cell_type": "code",
      "source": [
        "Data Encoding\n",
        "Data encoding is a technique used to convert categorical data\n",
        " (which cannot be directly used by most machine learning algorithms)\n",
        "  into numerical format. This is necessary because most algorithms work only\n",
        "  with numerical values. There are several methods to encode categorical data:\n",
        "\n",
        "Label Encoding:\n",
        "\n",
        "This is used for ordinal categorical variables where the categories have\n",
        "a meaningful order. Each category is mapped to a unique integer.\n",
        "Example:\n",
        "\n",
        "python\n",
        "Copy code\n",
        "from sklearn.preprocessing import LabelEncoder\n",
        "\n",
        "# Example categorical data\n",
        "categories = ['Low', 'Medium', 'High']\n",
        "\n",
        "# Initialize label encoder\n",
        "encoder = LabelEncoder()\n",
        "\n",
        "# Fit and transform the data\n",
        "encoded_categories = encoder.fit_transform(categories)\n",
        "\n",
        "print(encoded_categories)  # Output: [0 1 2]\n",
        "One-Hot Encoding:\n",
        "\n",
        "This method is used for nominal categorical variables (no meaningful order)\n",
        "by creating a new binary feature for each category. Each category is\n",
        "represented by a column where a 1 indicates the presence of that category and 0 indicates its absence.\n",
        "Example:\n",
        "\n",
        "python\n",
        "Copy code\n",
        "import pandas as pd\n",
        "\n",
        "# Example categorical data\n",
        "data = {'Color': ['Red', 'Blue', 'Green']}\n",
        "\n",
        "df = pd.DataFrame(data)\n",
        "\n",
        "# Perform one-hot encoding\n",
        "encoded_df = pd.get_dummies(df, columns=['Color'])\n",
        "\n",
        "print(encoded_df)\n",
        "Output:\n",
        "\n",
        "Copy code\n",
        "   Color_Blue  Color_Green  Color_Red\n",
        "0            0            0          1\n",
        "1            1            0          0\n",
        "2            0            1          0\n",
        "Binary Encoding:\n",
        "\n",
        "This method is more efficient when you have a large number of categories.\n",
        " It first converts the categories into integers, and then those integers are converted into binary code.\n",
        "Example:\n",
        "\n",
        "python\n",
        "Copy code\n",
        "from category_encoders import BinaryEncoder\n",
        "\n",
        "# Example categorical data\n",
        "data = {'Color': ['Red', 'Blue', 'Green', 'Red']}\n",
        "\n",
        "df = pd.DataFrame(data)\n",
        "\n",
        "# Initialize binary encoder\n",
        "encoder = BinaryEncoder(cols=['Color'])\n",
        "\n",
        "# Fit and transform the data\n",
        "encoded_df = encoder.fit_transform(df)\n",
        "\n",
        "print(encoded_df)\n",
        "Target Encoding:\n",
        "\n",
        "This method encodes categorical features based on the mean of the target variable\n",
        " for each category. It is often used for high cardinality categorical variables.\n",
        "Example:\n",
        "\n",
        "python\n",
        "Copy code\n",
        "from category_encoders import TargetEncoder\n",
        "\n",
        "# Example categorical data and target\n",
        "data = {'Color': ['Red', 'Blue', 'Green', 'Red'], 'Target': [1, 0, 1, 0]}\n",
        "\n",
        "df = pd.DataFrame(data)\n",
        "\n",
        "# Initialize target encoder\n",
        "encoder = TargetEncoder(cols=['Color'])\n",
        "\n",
        "# Fit and transform the data\n",
        "encoded_df = encoder.fit_transform(df['Color'], df['Target'])\n",
        "\n",
        "print(encoded_df)\n",
        "Each of these encoding techniques has its specific use cases depending on\n",
        "the type of categorical data and the nature of the problem you're working on."
      ],
      "metadata": {
        "id": "cxbkGA3t-iqW"
      },
      "execution_count": null,
      "outputs": []
    },
    {
      "cell_type": "code",
      "source": [],
      "metadata": {
        "id": "UJwfwssQ-iwq"
      },
      "execution_count": null,
      "outputs": []
    }
  ]
}